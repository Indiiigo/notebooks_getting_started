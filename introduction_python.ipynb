{
 "cells": [
  {
   "cell_type": "markdown",
   "metadata": {},
   "source": [
    "## Introduction to GESIS Notebooks?\n",
    "\n",
    "GESIS Notebooks is a free and hosted service for running [Jupyter](https://jupyter.org/) Notebooks requiring no installation. We aim to enable you to get started quickly with your research ideas, prototyping your data science projects, or learning to program languages such as [R](https://www.r-project.org/), [Python](https://www.python.org/) or [Julia](https://julialang.org/)\n",
    "\n"
   ]
  },
  {
   "cell_type": "markdown",
   "metadata": {},
   "source": [
    "Cells are a central part of Jupyter notebooks. There are two important types cells:\n",
    "\n",
    "+ Markdown cells with formatted text using [Markdown](https://github.com/adam-p/markdown-here/wiki/Markdown-Cheatsheet), such as this cell.\n",
    "+ Code cells for program code to be executed in the [kernel](https://jupyter.readthedocs.io/en/latest/projects/kernels.html).\n",
    "\n",
    "\n",
    "To write and run your first code cell enter in the empty field below\n",
    "\n",
    "```python\n",
    "my_string = \"Hello Jupyter\"\n",
    "print(my_string)\n",
    "```"
   ]
  },
  {
   "cell_type": "code",
   "execution_count": null,
   "metadata": {},
   "outputs": [],
   "source": []
  },
  {
   "cell_type": "markdown",
   "metadata": {},
   "source": [
    "To executed the cell press `Shift-Enter`\n",
    "\n",
    "For a further introduction to Jupyter we refer the user to the documentation on [Jupyter Notebooks](https://jupyter-notebook.readthedocs.io/en/stable/notebook.html)  the [JupyterLab Interface](https://jupyterlab.readthedocs.io/en/latest/user/interface.html)."
   ]
  }
 ],
 "metadata": {
  "kernelspec": {
   "display_name": "Python 3",
   "language": "python",
   "name": "python3"
  },
  "language_info": {
   "codemirror_mode": {
    "name": "ipython",
    "version": 3
   },
   "file_extension": ".py",
   "mimetype": "text/x-python",
   "name": "python",
   "nbconvert_exporter": "python",
   "pygments_lexer": "ipython3",
   "version": "3.6.7"
  }
 },
 "nbformat": 4,
 "nbformat_minor": 2
}
